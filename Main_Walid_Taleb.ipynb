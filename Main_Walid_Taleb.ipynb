{
 "cells": [
  {
   "cell_type": "markdown",
   "metadata": {},
   "source": [
    " ### In this jupyter we test the functions before putting them in exercice.py"
   ]
  },
  {
   "cell_type": "code",
   "execution_count": 153,
   "metadata": {},
   "outputs": [],
   "source": [
    "import numpy as np\n",
    "import pandas as pd"
   ]
  },
  {
   "cell_type": "markdown",
   "metadata": {},
   "source": [
    "# Check uniqueness"
   ]
  },
  {
   "cell_type": "code",
   "execution_count": 154,
   "metadata": {},
   "outputs": [
    {
     "name": "stdout",
     "output_type": "stream",
     "text": [
      "[82, 51, 14, 19, 8, 7, 52, 19, 93, 53, 23, 44, 75, 10, 29, 55, 76, 85, 66, 99]\n"
     ]
    }
   ],
   "source": [
    "import random # we use random the generate example lists\n",
    "randomlist  = [random.randint(0,100) for i in range(20)]\n",
    "print(randomlist)"
   ]
  },
  {
   "cell_type": "code",
   "execution_count": 155,
   "metadata": {},
   "outputs": [],
   "source": [
    "def check_uniqueness(lst):\n",
    "    \"\"\"\n",
    "    Check if a list contains only unique values.\n",
    "    Returns True only if all values in the list are unique, False otherwise\n",
    "    \"\"\"\n",
    "    nb_unique_elements  = len(set(lst)) # we get the number of unique values\n",
    "    if nb_unique_elements == len(lst):\n",
    "        return True\n",
    "    else :\n",
    "        return False"
   ]
  },
  {
   "cell_type": "code",
   "execution_count": 156,
   "metadata": {},
   "outputs": [
    {
     "data": {
      "text/plain": [
       "False"
      ]
     },
     "execution_count": 156,
     "metadata": {},
     "output_type": "execute_result"
    }
   ],
   "source": [
    "check_uniqueness(randomlist)"
   ]
  },
  {
   "cell_type": "markdown",
   "metadata": {},
   "source": [
    "## Smallest difference"
   ]
  },
  {
   "cell_type": "code",
   "execution_count": 157,
   "metadata": {},
   "outputs": [],
   "source": [
    "def smallest_difference(array):\n",
    "    \"\"\"\n",
    "    Code a function that takes an array and returns the smallest\n",
    "    absolute difference between two elements of this array\n",
    "    Please note that the array can be large and that the more\n",
    "    computationally efficient the better\n",
    "    \"\"\"\n",
    "    \n",
    "    flat_array = array.flatten() # we flatten the array to have a (n,) dimension\n",
    "    flat_array = np.array(sorted(flat_array)) # we sort the flat array in ascending order and make sure the result is an array \n",
    "    \n",
    "    consecutive_differences = flat_array[1:] - flat_array[:-1] # we calculate the differences of side by side elements \n",
    "    \n",
    "    return(min(consecutive_differences))"
   ]
  },
  {
   "cell_type": "code",
   "execution_count": 158,
   "metadata": {},
   "outputs": [
    {
     "name": "stdout",
     "output_type": "stream",
     "text": [
      "[[10 65 25 75]\n",
      " [34 75 93 81]\n",
      " [38 21 36 64]\n",
      " [17 64 65 20]]\n"
     ]
    }
   ],
   "source": [
    "# we create a random array \n",
    "random_array = np.random.randint(1,100, size=(4,4))\n",
    "print(random_array)"
   ]
  },
  {
   "cell_type": "code",
   "execution_count": 159,
   "metadata": {},
   "outputs": [
    {
     "data": {
      "text/plain": [
       "0"
      ]
     },
     "execution_count": 159,
     "metadata": {},
     "output_type": "execute_result"
    }
   ],
   "source": [
    "smallest_difference(random_array)"
   ]
  },
  {
   "cell_type": "markdown",
   "metadata": {},
   "source": [
    "## Macd"
   ]
  },
  {
   "cell_type": "code",
   "execution_count": 160,
   "metadata": {},
   "outputs": [
    {
     "data": {
      "text/html": [
       "<div>\n",
       "<style scoped>\n",
       "    .dataframe tbody tr th:only-of-type {\n",
       "        vertical-align: middle;\n",
       "    }\n",
       "\n",
       "    .dataframe tbody tr th {\n",
       "        vertical-align: top;\n",
       "    }\n",
       "\n",
       "    .dataframe thead th {\n",
       "        text-align: right;\n",
       "    }\n",
       "</style>\n",
       "<table border=\"1\" class=\"dataframe\">\n",
       "  <thead>\n",
       "    <tr style=\"text-align: right;\">\n",
       "      <th></th>\n",
       "      <th>date</th>\n",
       "      <th>SX5T Index</th>\n",
       "    </tr>\n",
       "  </thead>\n",
       "  <tbody>\n",
       "    <tr>\n",
       "      <th>0</th>\n",
       "      <td>2000-01-03</td>\n",
       "      <td>6067.89</td>\n",
       "    </tr>\n",
       "    <tr>\n",
       "      <th>1</th>\n",
       "      <td>2000-01-04</td>\n",
       "      <td>5828.40</td>\n",
       "    </tr>\n",
       "    <tr>\n",
       "      <th>2</th>\n",
       "      <td>2000-01-05</td>\n",
       "      <td>5683.15</td>\n",
       "    </tr>\n",
       "    <tr>\n",
       "      <th>3</th>\n",
       "      <td>2000-01-06</td>\n",
       "      <td>5631.77</td>\n",
       "    </tr>\n",
       "    <tr>\n",
       "      <th>4</th>\n",
       "      <td>2000-01-07</td>\n",
       "      <td>5816.44</td>\n",
       "    </tr>\n",
       "  </tbody>\n",
       "</table>\n",
       "</div>"
      ],
      "text/plain": [
       "         date  SX5T Index\n",
       "0  2000-01-03     6067.89\n",
       "1  2000-01-04     5828.40\n",
       "2  2000-01-05     5683.15\n",
       "3  2000-01-06     5631.77\n",
       "4  2000-01-07     5816.44"
      ]
     },
     "execution_count": 160,
     "metadata": {},
     "output_type": "execute_result"
    }
   ],
   "source": [
    "input_data = pd.read_csv(\"data/data.csv\")\n",
    "input_data.head()"
   ]
  },
  {
   "cell_type": "code",
   "execution_count": 161,
   "metadata": {},
   "outputs": [
    {
     "data": {
      "text/plain": [
       "<matplotlib.axes._subplots.AxesSubplot at 0x214ffc53e80>"
      ]
     },
     "execution_count": 161,
     "metadata": {},
     "output_type": "execute_result"
    },
    {
     "data": {
      "image/png": "[encoded data removed]",
      "text/plain": [
       "<Figure size 576x432 with 1 Axes>"
      ]
     },
     "metadata": {
      "needs_background": "light"
     },
     "output_type": "display_data"
    }
   ],
   "source": [
    "input_data.plot(figsize = (8,6))"
   ]
  },
  {
   "cell_type": "code",
   "execution_count": 162,
   "metadata": {},
   "outputs": [],
   "source": [
    "def macd(prices, window_short=12, window_long=26):\n",
    "    \"\"\"\n",
    "    Code a function that takes a DataFrame named prices and\n",
    "    returns it's MACD (Moving Average Convergence Difference) as\n",
    "    a DataFrame with same shape\n",
    "    Assume simple moving average rather than exponential moving average\n",
    "    The expected output is in the output.csv file\n",
    "    \"\"\"\n",
    "    numerical_col_names = prices.select_dtypes(include=np.number).columns # we select only the cumerical columns\n",
    "    df_result = pd.DataFrame()\n",
    "    for col_name in numerical_col_names:\n",
    "        df_result[\"MACD \"+col_name] = prices[col_name].rolling(window=window_short).mean() - prices[col_name].rolling(window=window_long).mean()\n",
    "    \n",
    "    return df_result\n",
    "    "
   ]
  },
  {
   "cell_type": "code",
   "execution_count": 163,
   "metadata": {},
   "outputs": [],
   "source": [
    "df_result = macd(input_data)"
   ]
  },
  {
   "cell_type": "code",
   "execution_count": 164,
   "metadata": {},
   "outputs": [
    {
     "data": {
      "text/html": [
       "<div>\n",
       "<style scoped>\n",
       "    .dataframe tbody tr th:only-of-type {\n",
       "        vertical-align: middle;\n",
       "    }\n",
       "\n",
       "    .dataframe tbody tr th {\n",
       "        vertical-align: top;\n",
       "    }\n",
       "\n",
       "    .dataframe thead th {\n",
       "        text-align: right;\n",
       "    }\n",
       "</style>\n",
       "<table border=\"1\" class=\"dataframe\">\n",
       "  <thead>\n",
       "    <tr style=\"text-align: right;\">\n",
       "      <th></th>\n",
       "      <th>date</th>\n",
       "      <th>SX5T Index</th>\n",
       "      <th>macd_12_26</th>\n",
       "    </tr>\n",
       "  </thead>\n",
       "  <tbody>\n",
       "    <tr>\n",
       "      <th>0</th>\n",
       "      <td>2000-01-03</td>\n",
       "      <td>6067.89</td>\n",
       "      <td>NaN</td>\n",
       "    </tr>\n",
       "    <tr>\n",
       "      <th>1</th>\n",
       "      <td>2000-01-04</td>\n",
       "      <td>5828.40</td>\n",
       "      <td>NaN</td>\n",
       "    </tr>\n",
       "    <tr>\n",
       "      <th>2</th>\n",
       "      <td>2000-01-05</td>\n",
       "      <td>5683.15</td>\n",
       "      <td>NaN</td>\n",
       "    </tr>\n",
       "    <tr>\n",
       "      <th>3</th>\n",
       "      <td>2000-01-06</td>\n",
       "      <td>5631.77</td>\n",
       "      <td>NaN</td>\n",
       "    </tr>\n",
       "    <tr>\n",
       "      <th>4</th>\n",
       "      <td>2000-01-07</td>\n",
       "      <td>5816.44</td>\n",
       "      <td>NaN</td>\n",
       "    </tr>\n",
       "  </tbody>\n",
       "</table>\n",
       "</div>"
      ],
      "text/plain": [
       "         date  SX5T Index  macd_12_26\n",
       "0  2000-01-03     6067.89         NaN\n",
       "1  2000-01-04     5828.40         NaN\n",
       "2  2000-01-05     5683.15         NaN\n",
       "3  2000-01-06     5631.77         NaN\n",
       "4  2000-01-07     5816.44         NaN"
      ]
     },
     "execution_count": 164,
     "metadata": {},
     "output_type": "execute_result"
    }
   ],
   "source": [
    "output_data = pd.read_csv(\"data/output.csv\")\n",
    "output_data.head()"
   ]
  },
  {
   "cell_type": "code",
   "execution_count": 165,
   "metadata": {},
   "outputs": [],
   "source": [
    "import matplotlib.pyplot as plt "
   ]
  },
  {
   "cell_type": "code",
   "execution_count": 166,
   "metadata": {},
   "outputs": [
    {
     "data": {
      "image/png": "[encoded data removed]",
      "text/plain": [
       "<Figure size 576x432 with 1 Axes>"
      ]
     },
     "metadata": {
      "needs_background": "light"
     },
     "output_type": "display_data"
    }
   ],
   "source": [
    "output_data.macd_12_26.plot(figsize = (8,6))\n",
    "df_result[\"MACD SX5T Index\"].plot()\n",
    "plt.legend()\n",
    "plt.show()"
   ]
  },
  {
   "cell_type": "markdown",
   "metadata": {},
   "source": [
    "## Sortino ratio"
   ]
  },
  {
   "cell_type": "code",
   "execution_count": 167,
   "metadata": {},
   "outputs": [],
   "source": [
    "def sortino_ratio(prices):\n",
    "    \"\"\"\n",
    "    Code a function that takes a DataFrame named prices and\n",
    "    returns the Sortino ratio for each column\n",
    "    Assume risk-free rate = 0\n",
    "    On the given test set, it should yield 0.05457\n",
    "    \"\"\"\n",
    "    risk_free_rate = 0\n",
    "    prices = prices.select_dtypes(include=np.number) # we select only numerical columns\n",
    "    returns = prices.pct_change() # the calculate the returns for all columns\n",
    "    returns = returns.dropna()\n",
    "    \n",
    "    def downside_deviation(x):\n",
    "        return np.std(np.minimum(0,x))\n",
    "    \n",
    "    def daily_retun_2_annual(x):\n",
    "        cumulative_return = (x+1).prod()\n",
    "        ann_return = cumulative_return**(252/len(x)) - 1 # 252 number of open days in a year\n",
    "        return ann_return\n",
    "    \n",
    "    result = returns.apply(lambda x: (daily_retun_2_annual(x) - risk_free_rate)/downside_deviation(x), axis=0) # we calculathe the ratio\n",
    "    \n",
    "    return result"
   ]
  },
  {
   "cell_type": "code",
   "execution_count": 168,
   "metadata": {},
   "outputs": [
    {
     "data": {
      "text/plain": [
       "SX5T Index    1.208294\n",
       "dtype: float64"
      ]
     },
     "execution_count": 168,
     "metadata": {},
     "output_type": "execute_result"
    }
   ],
   "source": [
    "sortino_ratio(input_data)"
   ]
  },
  {
   "cell_type": "markdown",
   "metadata": {},
   "source": [
    "#### The resulting values is not the one expected. I must have implemented a wrong formula for the downside deviation. It might also be due to considering annual returns"
   ]
  },
  {
   "cell_type": "markdown",
   "metadata": {},
   "source": [
    "## Expected_shortfall"
   ]
  },
  {
   "cell_type": "code",
   "execution_count": 169,
   "metadata": {},
   "outputs": [],
   "source": [
    "input_data_test = input_data.copy()\n",
    "input_data_test[\"SX5T Index 2\"] = input_data[\"SX5T Index\"]"
   ]
  },
  {
   "cell_type": "code",
   "execution_count": 170,
   "metadata": {},
   "outputs": [
    {
     "data": {
      "text/html": [
       "<div>\n",
       "<style scoped>\n",
       "    .dataframe tbody tr th:only-of-type {\n",
       "        vertical-align: middle;\n",
       "    }\n",
       "\n",
       "    .dataframe tbody tr th {\n",
       "        vertical-align: top;\n",
       "    }\n",
       "\n",
       "    .dataframe thead th {\n",
       "        text-align: right;\n",
       "    }\n",
       "</style>\n",
       "<table border=\"1\" class=\"dataframe\">\n",
       "  <thead>\n",
       "    <tr style=\"text-align: right;\">\n",
       "      <th></th>\n",
       "      <th>date</th>\n",
       "      <th>SX5T Index</th>\n",
       "      <th>SX5T Index 2</th>\n",
       "    </tr>\n",
       "  </thead>\n",
       "  <tbody>\n",
       "    <tr>\n",
       "      <th>0</th>\n",
       "      <td>2000-01-03</td>\n",
       "      <td>6067.89</td>\n",
       "      <td>6067.89</td>\n",
       "    </tr>\n",
       "    <tr>\n",
       "      <th>1</th>\n",
       "      <td>2000-01-04</td>\n",
       "      <td>5828.40</td>\n",
       "      <td>5828.40</td>\n",
       "    </tr>\n",
       "    <tr>\n",
       "      <th>2</th>\n",
       "      <td>2000-01-05</td>\n",
       "      <td>5683.15</td>\n",
       "      <td>5683.15</td>\n",
       "    </tr>\n",
       "    <tr>\n",
       "      <th>3</th>\n",
       "      <td>2000-01-06</td>\n",
       "      <td>5631.77</td>\n",
       "      <td>5631.77</td>\n",
       "    </tr>\n",
       "    <tr>\n",
       "      <th>4</th>\n",
       "      <td>2000-01-07</td>\n",
       "      <td>5816.44</td>\n",
       "      <td>5816.44</td>\n",
       "    </tr>\n",
       "  </tbody>\n",
       "</table>\n",
       "</div>"
      ],
      "text/plain": [
       "         date  SX5T Index  SX5T Index 2\n",
       "0  2000-01-03     6067.89       6067.89\n",
       "1  2000-01-04     5828.40       5828.40\n",
       "2  2000-01-05     5683.15       5683.15\n",
       "3  2000-01-06     5631.77       5631.77\n",
       "4  2000-01-07     5816.44       5816.44"
      ]
     },
     "execution_count": 170,
     "metadata": {},
     "output_type": "execute_result"
    }
   ],
   "source": [
    "input_data_test.head() # we create the "
   ]
  },
  {
   "cell_type": "code",
   "execution_count": 171,
   "metadata": {},
   "outputs": [],
   "source": [
    "def expected_shortfall(prices, level=0.95):\n",
    "    \"\"\"\n",
    "    Code a function that takes a DataFrame named prices and\n",
    "    returns the expected shortfall at a given level\n",
    "    On the given test set, it should yield -0.03468\n",
    "    \"\"\" \n",
    "    prices = prices.select_dtypes(include=np.number) # we select only the cumerical columns\n",
    "    returns = prices.pct_change() # we calculate the returns for each column\n",
    "    returns = returns.dropna()\n",
    "    n_col = prices.shape[1]\n",
    "    ES = np.zeros(n_col)\n",
    "    for i in range(n_col): # we calculate the ES for each column\n",
    "        selected_column = returns.iloc[:,i]\n",
    "        worst_returns = selected_column[selected_column < selected_column.quantile(1-level)]\n",
    "        ES[i] = np.mean(worst_returns)\n",
    "    return ES"
   ]
  },
  {
   "cell_type": "code",
   "execution_count": 172,
   "metadata": {},
   "outputs": [
    {
     "data": {
      "text/plain": [
       "array([-0.034685, -0.034685])"
      ]
     },
     "execution_count": 172,
     "metadata": {},
     "output_type": "execute_result"
    }
   ],
   "source": [
    "expected_shortfall(input_data_test)"
   ]
  },
  {
   "cell_type": "markdown",
   "metadata": {},
   "source": [
    "## Visualize"
   ]
  },
  {
   "cell_type": "code",
   "execution_count": 174,
   "metadata": {},
   "outputs": [],
   "source": [
    "def visualize(prices, path, plot_name = \"SX5T Index\", plot_type = \".pdf\"):\n",
    "    \"\"\"\n",
    "    Code a function that takes a DataFrame named prices and\n",
    "    saves the plot to the given path\n",
    "    \"\"\"\n",
    "    prices = prices.select_dtypes(include=np.number) # we select only the cumerical columns\n",
    "    prices.plot(figsize=(8,6))\n",
    "    plt.legend()\n",
    "    plt.savefig(path+\"/\"+plot_name+plot_type)"
   ]
  },
  {
   "cell_type": "code",
   "execution_count": 175,
   "metadata": {},
   "outputs": [
    {
     "data": {
      "image/png": "[encoded data removed]",
      "text/plain": [
       "<Figure size 576x432 with 1 Axes>"
      ]
     },
     "metadata": {
      "needs_background": "light"
     },
     "output_type": "display_data"
    }
   ],
   "source": [
    "visualize(input_data, path=\"plot_folder\")"
   ]
  }
 ],
 "metadata": {
  "kernelspec": {
   "display_name": "Python 3",
   "language": "python",
   "name": "python3"
  },
  "language_info": {
   "codemirror_mode": {
    "name": "ipython",
    "version": 3
   },
   "file_extension": ".py",
   "mimetype": "text/x-python",
   "name": "python",
   "nbconvert_exporter": "python",
   "pygments_lexer": "ipython3",
   "version": "3.8.3"
  }
 },
 "nbformat": 4,
 "nbformat_minor": 4
}
